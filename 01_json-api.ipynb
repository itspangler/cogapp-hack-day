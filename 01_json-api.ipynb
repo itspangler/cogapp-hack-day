{
 "cells": [
  {
   "cell_type": "markdown",
   "metadata": {},
   "source": [
    "# Accessing LMEC Collections via JSON API\n",
    "\n",
    "This notebook provides some tips for using Digital Commonwealth's JSON API to query the LMEC collections portal and programmatically retrieve metadata about collections items.\n",
    "\n",
    "### URL syntax\n",
    "\n",
    "To retrieve any page as JSON, simply append `.json` to the page URL. On the collections portal, this should be placed directly after `search`:\n",
    "\n",
    "    # normal, return HTML\n",
    "    https://collections.leventhalmap.org/search?utf8=%E2%9C%93&q=lowell&search_field=all_fields\n",
    "\n",
    "    # return JSON\n",
    "    https://collections.leventhalmap.org/search.json?utf8=%E2%9C%93&q=Lowell&search_field=all_fields\n",
    "\n",
    "### Increasing max items returned from search query\n",
    "\n",
    "By default this query will return a max of 20 items (it's reading from the page). You can increase this to 100 by replacing `utf8=%E2%9C%93&` with `per_page=100&`:\n",
    "\n",
    "    # normal, return HTML with up to 100 items per page\n",
    "    https://collections.leventhalmap.org/search?per_page=100&q=lowell&search_field=all_fields\n",
    "\n",
    "    # return JSON\n",
    "    https://collections.leventhalmap.org/search.json?per_page=100&q=lowell&search_field=all_fields\n",
    "\n",
    "### Tweaking the query with other filters\n",
    "\n",
    "You can also tweak your search by adjusting things like \"Place,\" \"Topic,\" and \"Date\" on the collections portal itself before grabbing the URL. The following query searches against 2 parameters: 1) maps that match the keyword \"Lowell\" 2) with a date of 1850 or later. It also lists 100 items per page, although only 19 maps are returned:\n",
    "\n",
    "    # normal, return HTML with up to 100 items and a date constraint\n",
    "    https://collections.leventhalmap.org/search?per_page=100&q=lowel&range%5Bdate_facet_yearly_itim%5D%5Bbegin%5D=1850&range%5Bdate_facet_yearly_itim%5D%5Bend%5D=1951&search_field=dummy_range\n",
    "\n",
    "    # return JSON\n",
    "\n",
    "    https://collections.leventhalmap.org/search.json?per_page=100&q=lowel&range%5Bdate_facet_yearly_itim%5D%5Bbegin%5D=1900&range%5Bdate_facet_yearly_itim%5D%5Bend%5D=1950&search_field=dummy_range\n",
    "\n",
    "### Collections item-level syntax\n",
    "\n",
    "At the item level, `.json` should be appended to the end of the collections item, directly after the commonwealth ID:\n",
    "\n",
    "    # normal, return HTML\n",
    "    https://collections.leventhalmap.org/search/commonwealth:3f463717c\n",
    "\n",
    "    # return JSON\n",
    "    https://collections.leventhalmap.org/search/commonwealth:3f463717c.json\n",
    "\n",
    "### Parsing a single item\n",
    "\n",
    "We can parse a single item by first reading JSON data from a given URL into a Python dictionary, and then printing it as a string:"
   ]
  },
  {
   "cell_type": "code",
   "execution_count": null,
   "metadata": {},
   "outputs": [],
   "source": [
    "# import the relevant python libraries:\n",
    "# `json` for parsing json formatted data,\n",
    "# `requests` for easily accessing json data, and\n",
    "# `pandas` for viewing data in tables/frames\n",
    "\n",
    "import json\n",
    "import requests\n",
    "import pandas as pd\n",
    "\n",
    "data = requests.get(\"https://collections.leventhalmap.org/search/commonwealth:3f463717c.json\")\n",
    "\n",
    "print(json.dumps(data.json(), indent=2))"
   ]
  },
  {
   "cell_type": "markdown",
   "metadata": {},
   "source": [
    "### Retrieving a larger query\n",
    "\n",
    "That was just JSON from one item. We can also retrieve and parse multiple items at once by redefining the `data` variable with a **search URL** instead of a single item.\n",
    "\n",
    "For example, the URL\n",
    "\n",
    "`https://collections.leventhalmap.org/search.json?per_page=100&q=lowell&search_field=all_fields`\n",
    "\n",
    "will return a larger response. This search for \"lowell\" returned 35 items total:"
   ]
  },
  {
   "cell_type": "code",
   "execution_count": null,
   "metadata": {},
   "outputs": [],
   "source": [
    "\n",
    "data = requests.get(\"https://collections.leventhalmap.org/search.json?per_page=100&q=lowell&search_field=all_fields\")\n",
    "\n",
    "len(data.json()[\"response\"][\"docs\"])"
   ]
  },
  {
   "cell_type": "markdown",
   "metadata": {},
   "source": [
    "We printed the number of items, as opposed the full JSON for the query, because printing the full JSON would take up way too much space.\n",
    "\n",
    "### Architecture of the API response\n",
    "\n",
    "If you loop through the query's `response`, you can parse each section of the collections portal's web page:"
   ]
  },
  {
   "cell_type": "code",
   "execution_count": null,
   "metadata": {},
   "outputs": [],
   "source": [
    "for a in data.json()[\"response\"]:\n",
    "    print(a)"
   ]
  },
  {
   "cell_type": "markdown",
   "metadata": {},
   "source": [
    "where `docs` contains collection items, `facets` contains filters (e.g., the \"Date\" or \"Subject\" filter), and `pages` contains actions for moving through pages. (Since this query contains 35 items and we've set our page view to 100, there's only 1 page here—but this is useful to know for something like building a Python scraper.)\n",
    "\n",
    "We mostly will want to interact with `docs`. Let's start by figuring out what kind of metadata each item contains.\n",
    "\n",
    "### Accessing metadata fields\n",
    "\n",
    "We can easily list metadata fields by:\n",
    "\n",
    "1. putting our data into a data frame and\n",
    "2. listing the data frame's columns"
   ]
  },
  {
   "cell_type": "code",
   "execution_count": null,
   "metadata": {},
   "outputs": [],
   "source": [
    "df = pd.DataFrame(data.json()['response']['docs'])\n",
    "\n",
    "print(list(df.columns.values))"
   ]
  },
  {
   "cell_type": "markdown",
   "metadata": {},
   "source": [
    "There are a *lot* of metadata fields here (77!). You don't need to see all of them, since many contain irrelevant detail or null values, so our next step is to filter some fields out.\n",
    "\n",
    "You could start by examining what each field contains by visiting the [BPL's field name reference guide](https://github.com/boston-library/solr-core-conf/wiki/SolrDocument-field-reference:-public-API).\n",
    "\n",
    "### Filtering a data frame by columns\n",
    "\n",
    "Still, this task can be pretty arduous. Below, we selected a few particularly useful fields and stored them as a list so that we only see selected columns in the resultant data frame. We also renamed the fields for readability."
   ]
  },
  {
   "cell_type": "code",
   "execution_count": null,
   "metadata": {},
   "outputs": [],
   "source": [
    "fields = ['title_info_primary_tsi', 'name_tsim', 'id', 'date_end_dtsi', 'georeferenced_bsi']\n",
    "newFieldNames = {'title_info_primary_tsi':'title', 'name_tsim':'creator', 'id':'commonwealth_id', 'date_end_dtsi':'date', 'georeferenced_bsi':'georef'}\n",
    "\n",
    "df_fltr = pd.DataFrame(df[fields])\n",
    "df_fltr.rename(columns = newFieldNames, inplace = True)\n",
    "df_fltr"
   ]
  },
  {
   "cell_type": "markdown",
   "metadata": {},
   "source": [
    "### Geospatial data fields\n",
    "\n",
    "In addition to the boolean georeferencing field, there are three other geospatial data fields that may be of interest:\n",
    "\n",
    "1. `subject_bbox_geospatial` is a string array of four coordinates that create a bounding box on georeferenced items\n",
    "2.  `subject_coordinates_geospatial` is a string array of lat and long for locations depicted in an item\n",
    "3. `subject_point_geospatial` is a lat-long string depicting the center point of an item\n",
    "\n",
    "Let's create a data frame that filters against these fields:"
   ]
  },
  {
   "cell_type": "code",
   "execution_count": null,
   "metadata": {},
   "outputs": [],
   "source": [
    "fields = ['title_info_primary_tsi', 'subject_bbox_geospatial', 'subject_coordinates_geospatial', 'subject_point_geospatial', 'georeferenced_bsi']\n",
    "newFieldNames = {'title_info_primary_tsi':'title', 'subject_bbox_geospatial':'bbox', 'subject_coordinates_geospatial':'coords', 'subject_point_geospatial':'centerpoint', 'georeferenced_bsi':'georef'}\n",
    "\n",
    "df_fltr = pd.DataFrame(df[fields])\n",
    "df_fltr.rename(columns = newFieldNames, inplace = True)\n",
    "df_fltr"
   ]
  },
  {
   "cell_type": "markdown",
   "metadata": {},
   "source": [
    "### Commonwealth ID's\n",
    "\n",
    "One thing to highlight here are the **commonwealth ID's**. In our collections, commonwealth ID's are a stable item identifier. Prefixing any of these ID's with `https://collections.leventhalmap.org/search/` will take you directly to the item's web page.\n",
    "\n",
    "### Filtering data frame by column values\n",
    "\n",
    "Now, let's say we want to filter our response according to certain metadata fields, for example only retrieving ID's for maps that have been georeferenced.\n",
    "\n",
    "The [`.loc` property](https://pandas.pydata.org/docs/reference/api/pandas.DataFrame.loc.html) of pandas makes it easy to access rows and columns by a label or array. "
   ]
  },
  {
   "cell_type": "code",
   "execution_count": null,
   "metadata": {},
   "outputs": [],
   "source": [
    "df_fltr.loc[df['georeferenced_bsi'] == True]"
   ]
  },
  {
   "cell_type": "markdown",
   "metadata": {},
   "source": [
    "### Calculate a new column based on an existing one\n",
    "\n",
    "You could also add more parameters, such as filtering for maps that are georeferenced only after 1850. This requires creating a new field, since our `date` field is stored as an [ISO 8601](https://en.wikipedia.org/wiki/ISO_8601) string.\n",
    "\n",
    "Here, we just extracted the first 4 characters from the `date` field and turned them into an integer:"
   ]
  },
  {
   "cell_type": "code",
   "execution_count": null,
   "metadata": {},
   "outputs": [],
   "source": [
    "fields = ['title_info_primary_tsi', 'name_tsim', 'id', 'date_end_dtsi', 'georeferenced_bsi']\n",
    "newFieldNames = {'title_info_primary_tsi':'title', 'name_tsim':'creator', 'id':'commonwealth_id', 'date_end_dtsi':'date', 'georeferenced_bsi':'georef'}\n",
    "\n",
    "df_fltr = pd.DataFrame(df[fields])\n",
    "df_fltr.rename(columns = newFieldNames, inplace = True)\n",
    "\n",
    "df_fltr['year'] = df_fltr['date'].str[:4].astype(int)\n",
    "df_fltr"
   ]
  },
  {
   "cell_type": "markdown",
   "metadata": {},
   "source": [
    "### Filtering against multiple parameters\n",
    "\n",
    "Now we can use the `.loc` property again, but this time filtering by two parameters: 1) georeferenced maps that were 2) created beginning in 1850."
   ]
  },
  {
   "cell_type": "code",
   "execution_count": null,
   "metadata": {},
   "outputs": [],
   "source": [
    "df_fltr.loc[(df_fltr['georef'] == True) & (df_fltr['year'] >= 1850)]"
   ]
  },
  {
   "cell_type": "markdown",
   "metadata": {},
   "source": [
    "### Filtering by date by API request\n",
    "\n",
    "A less programmatic way to filter by date is to just manually set filters to your desired search on the [LMEC collections portal](https://collections.leventhalmap.org), and then grab the resulting URL.\n",
    "\n",
    "To do it this way, we'll first redefine our original request, and then we'll recreate the necessary data frames:"
   ]
  },
  {
   "cell_type": "code",
   "execution_count": null,
   "metadata": {},
   "outputs": [],
   "source": [
    "# request a search query that is pre-filtered by a date range\n",
    "\n",
    "data_Date = requests.get(\"https://collections.leventhalmap.org/search.json?utf8=%E2%9C%93&q=lowell&search_field=dummy_range&range%5Bdate_facet_yearly_itim%5D%5Bbegin%5D=1850&range%5Bdate_facet_yearly_itim%5D%5Bend%5D=1951&commit=Apply\")\n",
    "\n",
    "# define the results of that query as a data frame\n",
    "\n",
    "df_Date = pd.DataFrame(data_Date.json()['response']['docs'])\n",
    "\n",
    "# filter the data frame so that it only shows relevant columns\n",
    "# and rename the columns so they're human readable\n",
    "\n",
    "df_Date_fltr = pd.DataFrame(df_Date[fields])\n",
    "df_Date_fltr.rename(columns = newFieldNames, inplace = True)\n",
    "\n",
    "# print data frame\n",
    "\n",
    "df_Date_fltr"
   ]
  },
  {
   "cell_type": "markdown",
   "metadata": {},
   "source": [
    "### Filtering by column again\n",
    "\n",
    "Filtering by the `georef` column shows us the same 5 maps of Lowell which meet these two parameters: 1) georeferenced and 2) created after 1850."
   ]
  },
  {
   "cell_type": "code",
   "execution_count": null,
   "metadata": {},
   "outputs": [],
   "source": [
    "df_Date_fltr.loc[df_Date_fltr['georef'] == True]"
   ]
  },
  {
   "cell_type": "markdown",
   "metadata": {},
   "source": [
    "# That's it!\n",
    "\n",
    "Next, check out the notebook on using the IIIF API."
   ]
  }
 ],
 "metadata": {
  "interpreter": {
   "hash": "d50c5030a654489db03ce84d5b558760052db50f9495ca301a20b79a29681fb3"
  },
  "kernelspec": {
   "display_name": "Python 3.7.11 ('lmec')",
   "language": "python",
   "name": "python3"
  },
  "language_info": {
   "codemirror_mode": {
    "name": "ipython",
    "version": 3
   },
   "file_extension": ".py",
   "mimetype": "text/x-python",
   "name": "python",
   "nbconvert_exporter": "python",
   "pygments_lexer": "ipython3",
   "version": "3.7.11"
  }
 },
 "nbformat": 4,
 "nbformat_minor": 2
}
